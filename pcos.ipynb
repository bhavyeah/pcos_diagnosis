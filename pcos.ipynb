{
 "cells": [
  {
   "cell_type": "code",
   "execution_count": 1,
   "id": "0a1759fa",
   "metadata": {},
   "outputs": [],
   "source": [
    "import pandas as pd\n",
    "import numpy as np\n",
    "import seaborn as sns\n",
    "import matplotlib.pyplot as plt"
   ]
  },
  {
   "cell_type": "code",
   "execution_count": 2,
   "id": "808d9fb0",
   "metadata": {},
   "outputs": [
    {
     "data": {
      "text/html": [
       "<div>\n",
       "<style scoped>\n",
       "    .dataframe tbody tr th:only-of-type {\n",
       "        vertical-align: middle;\n",
       "    }\n",
       "\n",
       "    .dataframe tbody tr th {\n",
       "        vertical-align: top;\n",
       "    }\n",
       "\n",
       "    .dataframe thead th {\n",
       "        text-align: right;\n",
       "    }\n",
       "</style>\n",
       "<table border=\"1\" class=\"dataframe\">\n",
       "  <thead>\n",
       "    <tr style=\"text-align: right;\">\n",
       "      <th></th>\n",
       "      <th>Age</th>\n",
       "      <th>BMI</th>\n",
       "      <th>Menstrual_Irregularity</th>\n",
       "      <th>Testosterone_Level(ng/dL)</th>\n",
       "      <th>Antral_Follicle_Count</th>\n",
       "      <th>PCOS_Diagnosis</th>\n",
       "    </tr>\n",
       "  </thead>\n",
       "  <tbody>\n",
       "    <tr>\n",
       "      <th>0</th>\n",
       "      <td>24</td>\n",
       "      <td>34.7</td>\n",
       "      <td>1</td>\n",
       "      <td>25.2</td>\n",
       "      <td>20</td>\n",
       "      <td>0</td>\n",
       "    </tr>\n",
       "    <tr>\n",
       "      <th>1</th>\n",
       "      <td>37</td>\n",
       "      <td>26.4</td>\n",
       "      <td>0</td>\n",
       "      <td>57.1</td>\n",
       "      <td>25</td>\n",
       "      <td>0</td>\n",
       "    </tr>\n",
       "    <tr>\n",
       "      <th>2</th>\n",
       "      <td>32</td>\n",
       "      <td>23.6</td>\n",
       "      <td>0</td>\n",
       "      <td>92.7</td>\n",
       "      <td>28</td>\n",
       "      <td>0</td>\n",
       "    </tr>\n",
       "    <tr>\n",
       "      <th>3</th>\n",
       "      <td>28</td>\n",
       "      <td>28.8</td>\n",
       "      <td>0</td>\n",
       "      <td>63.1</td>\n",
       "      <td>26</td>\n",
       "      <td>0</td>\n",
       "    </tr>\n",
       "    <tr>\n",
       "      <th>4</th>\n",
       "      <td>25</td>\n",
       "      <td>22.1</td>\n",
       "      <td>1</td>\n",
       "      <td>59.8</td>\n",
       "      <td>8</td>\n",
       "      <td>0</td>\n",
       "    </tr>\n",
       "  </tbody>\n",
       "</table>\n",
       "</div>"
      ],
      "text/plain": [
       "   Age   BMI  Menstrual_Irregularity  Testosterone_Level(ng/dL)  \\\n",
       "0   24  34.7                       1                       25.2   \n",
       "1   37  26.4                       0                       57.1   \n",
       "2   32  23.6                       0                       92.7   \n",
       "3   28  28.8                       0                       63.1   \n",
       "4   25  22.1                       1                       59.8   \n",
       "\n",
       "   Antral_Follicle_Count  PCOS_Diagnosis  \n",
       "0                     20               0  \n",
       "1                     25               0  \n",
       "2                     28               0  \n",
       "3                     26               0  \n",
       "4                      8               0  "
      ]
     },
     "execution_count": 2,
     "metadata": {},
     "output_type": "execute_result"
    }
   ],
   "source": [
    "df = pd.read_csv('/home/bhavya/Downloads/datasets/pcos_dataset.csv')\n",
    "df.head()"
   ]
  },
  {
   "cell_type": "code",
   "execution_count": 3,
   "id": "f561406f",
   "metadata": {},
   "outputs": [
    {
     "data": {
      "text/plain": [
       "(1000, 6)"
      ]
     },
     "execution_count": 3,
     "metadata": {},
     "output_type": "execute_result"
    }
   ],
   "source": [
    "df.shape"
   ]
  },
  {
   "cell_type": "code",
   "execution_count": 5,
   "id": "34179a92",
   "metadata": {},
   "outputs": [],
   "source": [
    "# df.drop_duplicates(inplace=True) -> no duplicates found\n",
    "# df.shape\n",
    "# pd.isnull(df).sum() -> no null values found"
   ]
  },
  {
   "cell_type": "code",
   "execution_count": 4,
   "id": "8c9f96b1",
   "metadata": {},
   "outputs": [
    {
     "name": "stdout",
     "output_type": "stream",
     "text": [
      "<class 'pandas.core.frame.DataFrame'>\n",
      "RangeIndex: 1000 entries, 0 to 999\n",
      "Data columns (total 6 columns):\n",
      " #   Column                     Non-Null Count  Dtype  \n",
      "---  ------                     --------------  -----  \n",
      " 0   Age                        1000 non-null   int64  \n",
      " 1   BMI                        1000 non-null   float64\n",
      " 2   Menstrual_Irregularity     1000 non-null   int64  \n",
      " 3   Testosterone_Level(ng/dL)  1000 non-null   float64\n",
      " 4   Antral_Follicle_Count      1000 non-null   int64  \n",
      " 5   PCOS_Diagnosis             1000 non-null   int64  \n",
      "dtypes: float64(2), int64(4)\n",
      "memory usage: 47.0 KB\n"
     ]
    }
   ],
   "source": [
    "df.info()"
   ]
  },
  {
   "cell_type": "code",
   "execution_count": 5,
   "id": "d65cf7d1",
   "metadata": {},
   "outputs": [],
   "source": [
    "df['patient_id'] = range(1, len(df) + 1)  # adding a patient id column\n",
    "df.set_index('patient_id', inplace=True)  # Setting it as the index"
   ]
  },
  {
   "cell_type": "code",
   "execution_count": 6,
   "id": "d8bb0daa",
   "metadata": {},
   "outputs": [
    {
     "data": {
      "text/html": [
       "<div>\n",
       "<style scoped>\n",
       "    .dataframe tbody tr th:only-of-type {\n",
       "        vertical-align: middle;\n",
       "    }\n",
       "\n",
       "    .dataframe tbody tr th {\n",
       "        vertical-align: top;\n",
       "    }\n",
       "\n",
       "    .dataframe thead th {\n",
       "        text-align: right;\n",
       "    }\n",
       "</style>\n",
       "<table border=\"1\" class=\"dataframe\">\n",
       "  <thead>\n",
       "    <tr style=\"text-align: right;\">\n",
       "      <th></th>\n",
       "      <th>Age</th>\n",
       "      <th>BMI</th>\n",
       "      <th>Menstrual_Irregularity</th>\n",
       "      <th>Testosterone_Level(ng/dL)</th>\n",
       "      <th>Antral_Follicle_Count</th>\n",
       "      <th>PCOS_Diagnosis</th>\n",
       "    </tr>\n",
       "    <tr>\n",
       "      <th>patient_id</th>\n",
       "      <th></th>\n",
       "      <th></th>\n",
       "      <th></th>\n",
       "      <th></th>\n",
       "      <th></th>\n",
       "      <th></th>\n",
       "    </tr>\n",
       "  </thead>\n",
       "  <tbody>\n",
       "    <tr>\n",
       "      <th>904</th>\n",
       "      <td>20</td>\n",
       "      <td>23.5</td>\n",
       "      <td>0</td>\n",
       "      <td>63.7</td>\n",
       "      <td>11</td>\n",
       "      <td>0</td>\n",
       "    </tr>\n",
       "    <tr>\n",
       "      <th>643</th>\n",
       "      <td>43</td>\n",
       "      <td>34.0</td>\n",
       "      <td>1</td>\n",
       "      <td>56.6</td>\n",
       "      <td>27</td>\n",
       "      <td>1</td>\n",
       "    </tr>\n",
       "    <tr>\n",
       "      <th>167</th>\n",
       "      <td>40</td>\n",
       "      <td>27.2</td>\n",
       "      <td>1</td>\n",
       "      <td>86.5</td>\n",
       "      <td>28</td>\n",
       "      <td>1</td>\n",
       "    </tr>\n",
       "    <tr>\n",
       "      <th>318</th>\n",
       "      <td>24</td>\n",
       "      <td>18.2</td>\n",
       "      <td>1</td>\n",
       "      <td>71.7</td>\n",
       "      <td>19</td>\n",
       "      <td>0</td>\n",
       "    </tr>\n",
       "    <tr>\n",
       "      <th>66</th>\n",
       "      <td>37</td>\n",
       "      <td>28.1</td>\n",
       "      <td>1</td>\n",
       "      <td>56.7</td>\n",
       "      <td>12</td>\n",
       "      <td>1</td>\n",
       "    </tr>\n",
       "  </tbody>\n",
       "</table>\n",
       "</div>"
      ],
      "text/plain": [
       "            Age   BMI  Menstrual_Irregularity  Testosterone_Level(ng/dL)  \\\n",
       "patient_id                                                                 \n",
       "904          20  23.5                       0                       63.7   \n",
       "643          43  34.0                       1                       56.6   \n",
       "167          40  27.2                       1                       86.5   \n",
       "318          24  18.2                       1                       71.7   \n",
       "66           37  28.1                       1                       56.7   \n",
       "\n",
       "            Antral_Follicle_Count  PCOS_Diagnosis  \n",
       "patient_id                                         \n",
       "904                            11               0  \n",
       "643                            27               1  \n",
       "167                            28               1  \n",
       "318                            19               0  \n",
       "66                             12               1  "
      ]
     },
     "execution_count": 6,
     "metadata": {},
     "output_type": "execute_result"
    }
   ],
   "source": [
    "df.sample(5)"
   ]
  },
  {
   "cell_type": "code",
   "execution_count": 7,
   "id": "140539ad",
   "metadata": {},
   "outputs": [],
   "source": [
    "df = df.rename(columns = {'Testosterone_Level(ng/dL)' : 'Testosterone_Level'})"
   ]
  },
  {
   "cell_type": "code",
   "execution_count": 8,
   "id": "047386ef",
   "metadata": {},
   "outputs": [],
   "source": [
    "# converting cleaned dataset into another CSV file for SQL analysis in BigQuery\n",
    "# df.to_csv('cleaned_pcos.csv', index=True)"
   ]
  },
  {
   "cell_type": "markdown",
   "id": "7d078814",
   "metadata": {},
   "source": [
    "# logistic regression model"
   ]
  },
  {
   "cell_type": "code",
   "execution_count": 8,
   "id": "7ac9cd5f",
   "metadata": {},
   "outputs": [],
   "source": [
    "# importing libraries to build a logistic regression model\n",
    "from sklearn.model_selection import train_test_split\n",
    "from sklearn.preprocessing import StandardScaler\n",
    "from sklearn.linear_model import LogisticRegression\n",
    "from sklearn.metrics import accuracy_score, confusion_matrix, classification_report"
   ]
  },
  {
   "cell_type": "code",
   "execution_count": 9,
   "id": "976e47d4",
   "metadata": {},
   "outputs": [],
   "source": [
    "# data pre processing\n",
    "# Defining features (X) and target variable (y)\n",
    "X = df.drop(columns=[\"PCOS_Diagnosis\"])\n",
    "y = df[\"PCOS_Diagnosis\"]\n",
    "\n",
    "# splitting into train and test sets (80% train, 20% test)\n",
    "X_train, X_test,y_train, y_test = train_test_split(X,y, test_size=0.2,  stratify=y, random_state=42)\n",
    "\n",
    "# Standardizing numerical features\n",
    "scaler = StandardScaler()\n",
    "X_train = scaler.fit_transform(X_train)\n",
    "X_test = scaler.transform(X_test)"
   ]
  },
  {
   "cell_type": "code",
   "execution_count": 10,
   "id": "e6b9c0b2",
   "metadata": {},
   "outputs": [],
   "source": [
    "# training the Logisitic Rgression model\n",
    "# Initialize and train model\n",
    "logreg = LogisticRegression() #Initializes the model.\n",
    "logreg.fit(X_train, y_train) # Trains the model using the training data.\n",
    "\n",
    "# Make predictions\n",
    "y_pred = logreg.predict(X_test) # Predicts PCOS (1) or No PCOS (0) for the test data.\n",
    "#The model learns patterns from X_train, y_train and applies them to unseen X_test"
   ]
  },
  {
   "cell_type": "code",
   "execution_count": 11,
   "id": "ff558a03",
   "metadata": {},
   "outputs": [
    {
     "name": "stdout",
     "output_type": "stream",
     "text": [
      "Accuracy: 0.92\n"
     ]
    },
    {
     "data": {
      "image/png": "[encoded data removed]",
      "text/plain": [
       "<Figure size 640x480 with 2 Axes>"
      ]
     },
     "metadata": {},
     "output_type": "display_data"
    },
    {
     "name": "stdout",
     "output_type": "stream",
     "text": [
      "              precision    recall  f1-score   support\n",
      "\n",
      "           0       0.96      0.93      0.95       160\n",
      "           1       0.76      0.85      0.80        40\n",
      "\n",
      "    accuracy                           0.92       200\n",
      "   macro avg       0.86      0.89      0.87       200\n",
      "weighted avg       0.92      0.92      0.92       200\n",
      "\n"
     ]
    }
   ],
   "source": [
    "# evaluating the model performance\n",
    "# Accuracy\n",
    "accuracy = accuracy_score(y_test, y_pred)\n",
    "print(f\"Accuracy: {accuracy:.2f}\")\n",
    "\n",
    "# Confusion Matrix\n",
    "conf_matrix = confusion_matrix(y_test, y_pred)\n",
    "sns.heatmap(conf_matrix, annot=True, fmt=\"d\", cmap=\"Blues\", xticklabels=[\"No PCOS\", \"PCOS\"], \n",
    "            yticklabels=[\"No PCOS\", \"PCOS\"])\n",
    "plt.xlabel(\"Predicted\")\n",
    "plt.ylabel(\"Actual\")\n",
    "plt.show()\n",
    "\n",
    "# Classification Report\n",
    "print(classification_report(y_test, y_pred))"
   ]
  },
  {
   "cell_type": "code",
   "execution_count": null,
   "id": "fe304778",
   "metadata": {},
   "outputs": [],
   "source": []
  },
  {
   "cell_type": "markdown",
   "id": "4edac3e7",
   "metadata": {},
   "source": [
    "# Random forest model"
   ]
  },
  {
   "cell_type": "code",
   "execution_count": 12,
   "id": "127987d9",
   "metadata": {},
   "outputs": [],
   "source": [
    "from sklearn.ensemble import RandomForestClassifier"
   ]
  },
  {
   "cell_type": "code",
   "execution_count": 13,
   "id": "f1f8e02d",
   "metadata": {},
   "outputs": [],
   "source": [
    "# initializing the model\n",
    "rf_model = RandomForestClassifier(n_estimators=100, random_state=42)\n",
    "\n",
    "# training the random forest model\n",
    "rf_model.fit(X_train, y_train)\n",
    "\n",
    "# making predictions\n",
    "y_pred = rf_model.predict(X_test)"
   ]
  },
  {
   "cell_type": "code",
   "execution_count": 14,
   "id": "45f02133",
   "metadata": {},
   "outputs": [
    {
     "name": "stdout",
     "output_type": "stream",
     "text": [
      "accuracy = 1.0\n"
     ]
    },
    {
     "data": {
      "image/png": "[encoded data removed]",
      "text/plain": [
       "<Figure size 640x480 with 2 Axes>"
      ]
     },
     "metadata": {},
     "output_type": "display_data"
    },
    {
     "name": "stdout",
     "output_type": "stream",
     "text": [
      "              precision    recall  f1-score   support\n",
      "\n",
      "           0       1.00      1.00      1.00       160\n",
      "           1       1.00      1.00      1.00        40\n",
      "\n",
      "    accuracy                           1.00       200\n",
      "   macro avg       1.00      1.00      1.00       200\n",
      "weighted avg       1.00      1.00      1.00       200\n",
      "\n"
     ]
    }
   ],
   "source": [
    "# evaluating model performance\n",
    "# calculating accuracy\n",
    "accuracy = accuracy_score(y_test, y_pred)\n",
    "print(f\"accuracy = {accuracy}\")\n",
    "\n",
    "# plotting confusion matrix\n",
    "conf_matrix = confusion_matrix(y_test, y_pred)\n",
    "sns.heatmap(conf_matrix, annot=True, fmt = 'd', xticklabels = ['No PCOS','PCOS'], yticklabels = ['No PCOS','PCOS'])\n",
    "# fmt displays integer values (whole numbers) inside the heatmap.\n",
    "plt.xlabel(\"predicted\")\n",
    "plt.ylabel(\"actual\")\n",
    "plt.show()\n",
    "\n",
    "#classification report\n",
    "print(classification_report(y_test, y_pred))"
   ]
  },
  {
   "cell_type": "markdown",
   "id": "9941b171",
   "metadata": {},
   "source": [
    "computing training and test accuracy"
   ]
  },
  {
   "cell_type": "code",
   "execution_count": 15,
   "id": "d463174f",
   "metadata": {},
   "outputs": [
    {
     "name": "stdout",
     "output_type": "stream",
     "text": [
      "Training Accuracy: 1.00\n",
      "Test Accuracy: 1.00\n"
     ]
    }
   ],
   "source": [
    "# Training accuracy\n",
    "train_accuracy = accuracy_score(y_train, rf_model.predict(X_train))\n",
    "print(f\"Training Accuracy: {train_accuracy:.2f}\")\n",
    "\n",
    "# Test accuracy\n",
    "test_accuracy = accuracy_score(y_test, y_pred)\n",
    "print(f\"Test Accuracy: {test_accuracy:.2f}\")"
   ]
  },
  {
   "cell_type": "markdown",
   "id": "56c23a52",
   "metadata": {},
   "source": [
    "there seems to be no overfitting in this data and the model is well generalised.\n",
    "Now, checking with cross validation"
   ]
  },
  {
   "cell_type": "code",
   "execution_count": 16,
   "id": "57fb643c",
   "metadata": {},
   "outputs": [
    {
     "name": "stdout",
     "output_type": "stream",
     "text": [
      "Cross-validation scores: [1.    1.    0.995 0.995 1.   ]\n",
      "Mean CV Accuracy: 1.00\n"
     ]
    }
   ],
   "source": [
    "from sklearn.model_selection import cross_val_score\n",
    "\n",
    "cv_scores = cross_val_score(rf_model, X, y, cv=5)  # 5-fold cross-validation\n",
    "print(f\"Cross-validation scores: {cv_scores}\")\n",
    "print(f\"Mean CV Accuracy: {cv_scores.mean():.2f}\")"
   ]
  },
  {
   "cell_type": "markdown",
   "id": "9944ca0b",
   "metadata": {},
   "source": [
    "the cross validation accuracy = test accuracy. hence it can be assumed that the model is generalising well."
   ]
  },
  {
   "cell_type": "markdown",
   "id": "d944c5bb",
   "metadata": {},
   "source": [
    "now, checking for data leakage"
   ]
  },
  {
   "cell_type": "code",
   "execution_count": 17,
   "id": "2d578372",
   "metadata": {},
   "outputs": [
    {
     "name": "stdout",
     "output_type": "stream",
     "text": [
      "PCOS_Diagnosis            1.000000\n",
      "Menstrual_Irregularity    0.469376\n",
      "BMI                       0.377852\n",
      "Testosterone_Level        0.200817\n",
      "Antral_Follicle_Count     0.192014\n",
      "Age                      -0.064675\n",
      "Name: PCOS_Diagnosis, dtype: float64\n"
     ]
    }
   ],
   "source": [
    "# Compute correlation matrix\n",
    "corr_matrix = df.corr()\n",
    "\n",
    "# Sort correlations with the target variable (PCOS_Diagnosis)\n",
    "corr_with_target = corr_matrix[\"PCOS_Diagnosis\"].sort_values(ascending=False)\n",
    "print(corr_with_target)"
   ]
  },
  {
   "cell_type": "markdown",
   "id": "fa5850fa",
   "metadata": {},
   "source": [
    "analyzing feature importance"
   ]
  },
  {
   "cell_type": "code",
   "execution_count": 18,
   "id": "532f454f",
   "metadata": {},
   "outputs": [
    {
     "data": {
      "image/png": "[encoded data removed]",
      "text/plain": [
       "<Figure size 800x500 with 1 Axes>"
      ]
     },
     "metadata": {},
     "output_type": "display_data"
    }
   ],
   "source": [
    "importances = pd.Series(rf_model.feature_importances_, index=X.columns)\n",
    "importances.sort_values(ascending=False).plot(kind=\"bar\", figsize=(8, 5))\n",
    "plt.title(\"Feature Importance\")\n",
    "plt.xlabel(\"Features\")\n",
    "plt.ylabel(\"Importance Score\")\n",
    "plt.show()"
   ]
  },
  {
   "cell_type": "markdown",
   "id": "049baef2",
   "metadata": {},
   "source": [
    "# XGBoost"
   ]
  },
  {
   "cell_type": "code",
   "execution_count": 19,
   "id": "7f7a0ccb",
   "metadata": {},
   "outputs": [],
   "source": [
    "import xgboost as xgb"
   ]
  },
  {
   "cell_type": "code",
   "execution_count": 20,
   "id": "78898c60",
   "metadata": {},
   "outputs": [],
   "source": [
    "# Initialize the model\n",
    "xgb_model = xgb.XGBClassifier(use_label_encoder=False, eval_metric='logloss', random_state=42)\n",
    "\n",
    "# Train the model\n",
    "xgb_model.fit(X_train, y_train)\n",
    "\n",
    "# Make predictions\n",
    "y_pred = xgb_model.predict(X_test)"
   ]
  },
  {
   "cell_type": "code",
   "execution_count": 21,
   "id": "88d1c462",
   "metadata": {},
   "outputs": [
    {
     "name": "stdout",
     "output_type": "stream",
     "text": [
      "Accuracy: 1.00\n",
      "              precision    recall  f1-score   support\n",
      "\n",
      "           0       1.00      1.00      1.00       160\n",
      "           1       1.00      1.00      1.00        40\n",
      "\n",
      "    accuracy                           1.00       200\n",
      "   macro avg       1.00      1.00      1.00       200\n",
      "weighted avg       1.00      1.00      1.00       200\n",
      "\n"
     ]
    },
    {
     "data": {
      "image/png": "[encoded data removed]",
      "text/plain": [
       "<Figure size 640x480 with 2 Axes>"
      ]
     },
     "metadata": {},
     "output_type": "display_data"
    }
   ],
   "source": [
    "# accuracy score\n",
    "accuracy = accuracy_score(y_test, y_pred)\n",
    "print(f\"Accuracy: {accuracy:.2f}\")\n",
    "\n",
    "# classification_report\n",
    "print(classification_report(y_test, y_pred))\n",
    "\n",
    "#conf matrix\n",
    "conf_matrix = confusion_matrix(y_test, y_pred)\n",
    "sns.heatmap(conf_matrix, annot=True, fmt=\"d\", cmap=\"Blues\", xticklabels=[\"No PCOS\", \"PCOS\"], yticklabels=[\"No PCOS\", \"PCOS\"])\n",
    "plt.xlabel(\"Predicted\")\n",
    "plt.ylabel(\"Actual\")\n",
    "plt.title(\"Confusion Matrix - XGBoost\")\n",
    "plt.show()"
   ]
  },
  {
   "cell_type": "code",
   "execution_count": 22,
   "id": "251524e0",
   "metadata": {},
   "outputs": [
    {
     "data": {
      "image/png": "[encoded data removed]",
      "text/plain": [
       "<Figure size 800x500 with 1 Axes>"
      ]
     },
     "metadata": {},
     "output_type": "display_data"
    }
   ],
   "source": [
    "# feature importance analysis\n",
    "\n",
    "feature_importance = pd.Series(xgb_model.feature_importances_, index=X.columns)\n",
    "feature_importance.sort_values(ascending=False).plot(kind=\"bar\", figsize=(8, 5))\n",
    "plt.title(\"Feature Importance - XGBoost\")\n",
    "plt.xlabel(\"Features\")\n",
    "plt.ylabel(\"Importance Score\")\n",
    "plt.show()"
   ]
  },
  {
   "cell_type": "code",
   "execution_count": 23,
   "id": "833db26e",
   "metadata": {},
   "outputs": [
    {
     "name": "stdout",
     "output_type": "stream",
     "text": [
      "Training Accuracy: 1.00\n",
      "Test Accuracy: 1.00\n"
     ]
    }
   ],
   "source": [
    "# checking for overfitting\n",
    "\n",
    "# Training accuracy\n",
    "train_accuracy = accuracy_score(y_train, xgb_model.predict(X_train))\n",
    "print(f\"Training Accuracy: {train_accuracy:.2f}\")\n",
    "\n",
    "# Test accuracy\n",
    "test_accuracy = accuracy_score(y_test, y_pred)\n",
    "print(f\"Test Accuracy: {test_accuracy:.2f}\")"
   ]
  },
  {
   "cell_type": "code",
   "execution_count": null,
   "id": "cc09505e",
   "metadata": {},
   "outputs": [],
   "source": []
  },
  {
   "cell_type": "code",
   "execution_count": 24,
   "id": "481e59ba",
   "metadata": {},
   "outputs": [
    {
     "name": "stdout",
     "output_type": "stream",
     "text": [
      "Cross-validation scores: [1.    1.    0.995 0.995 1.   ]\n",
      "Mean CV Accuracy: 1.00\n"
     ]
    }
   ],
   "source": [
    "# cross validation\n",
    "\n",
    "cv_scores = cross_val_score(xgb_model, X, y, cv=5)  # 5-fold cross-validation\n",
    "print(f\"Cross-validation scores: {cv_scores}\")\n",
    "print(f\"Mean CV Accuracy: {cv_scores.mean():.2f}\")"
   ]
  },
  {
   "cell_type": "code",
   "execution_count": null,
   "id": "e0230a65",
   "metadata": {},
   "outputs": [],
   "source": []
  },
  {
   "cell_type": "code",
   "execution_count": null,
   "id": "96d1537b",
   "metadata": {},
   "outputs": [],
   "source": [
    "# checking data leakage\n",
    "# Compute correlation matrix\n",
    "corr_matrix = df.corr()\n",
    "\n",
    "# Sort correlations with the target variable (PCOS_Diagnosis)\n",
    "corr_with_target = corr_matrix[\"PCOS_Diagnosis\"].sort_values(ascending=False)\n",
    "print(corr_with_target)"
   ]
  },
  {
   "cell_type": "raw",
   "id": "7018ef44",
   "metadata": {},
   "source": [
    "Hyperparameter Tuning with Regularization for XGBoost"
   ]
  },
  {
   "cell_type": "code",
   "execution_count": 25,
   "id": "dbf57532",
   "metadata": {},
   "outputs": [],
   "source": [
    "# Initialize XGBoost with regularization\n",
    "xgb_model = xgb.XGBClassifier(\n",
    "    use_label_encoder=False, \n",
    "    eval_metric='logloss',\n",
    "    random_state=42,\n",
    "    reg_alpha=0.1,  # L1 regularization (Lasso)\n",
    "    reg_lambda=0.1   # L2 regularization (Ridge)\n",
    ")\n",
    "\n",
    "# Train the model\n",
    "xgb_model.fit(X_train, y_train)\n",
    "\n",
    "# Make predictions\n",
    "y_pred = xgb_model.predict(X_test)\n"
   ]
  },
  {
   "cell_type": "code",
   "execution_count": 26,
   "id": "a1007e34",
   "metadata": {},
   "outputs": [
    {
     "name": "stdout",
     "output_type": "stream",
     "text": [
      "Training Accuracy: 1.00\n",
      "Test Accuracy: 1.00\n",
      "Cross-validation scores: [1.    1.    0.995 0.995 1.   ]\n",
      "Mean CV Accuracy: 1.00\n"
     ]
    }
   ],
   "source": [
    "# evaluating regularised model\n",
    "\n",
    "# Training accuracy\n",
    "train_accuracy = accuracy_score(y_train, xgb_model.predict(X_train))\n",
    "print(f\"Training Accuracy: {train_accuracy:.2f}\")\n",
    "\n",
    "# Test accuracy\n",
    "test_accuracy = accuracy_score(y_test, y_pred)\n",
    "print(f\"Test Accuracy: {test_accuracy:.2f}\")\n",
    "\n",
    "# Cross-validation accuracy\n",
    "cv_scores = cross_val_score(xgb_model, X, y, cv=5)\n",
    "print(f\"Cross-validation scores: {cv_scores}\")\n",
    "print(f\"Mean CV Accuracy: {cv_scores.mean():.2f}\")"
   ]
  },
  {
   "cell_type": "code",
   "execution_count": 28,
   "id": "27ab8141",
   "metadata": {},
   "outputs": [],
   "source": [
    "# lowering the no of tress (n_estimators)\n",
    "# Initialize XGBoost with fewer trees\n",
    "xgb_model = xgb.XGBClassifier(\n",
    "    use_label_encoder=False, \n",
    "    eval_metric='logloss',\n",
    "    random_state=42,\n",
    "    reg_alpha=0.1,  # L1 regularization\n",
    "    reg_lambda=0.1, # L2 regularization\n",
    "    n_estimators=50  # Reduce number of trees (default is usually 100+)\n",
    ")\n",
    "\n",
    "# Train the model\n",
    "xgb_model.fit(X_train, y_train)\n",
    "\n",
    "# Make predictions\n",
    "y_pred = xgb_model.predict(X_test)"
   ]
  },
  {
   "cell_type": "code",
   "execution_count": 29,
   "id": "0f70df95",
   "metadata": {},
   "outputs": [
    {
     "name": "stdout",
     "output_type": "stream",
     "text": [
      "Training Accuracy: 1.00\n",
      "Test Accuracy: 1.00\n",
      "Cross-validation scores: [1.    1.    0.995 0.995 1.   ]\n",
      "Mean CV Accuracy: 1.00\n"
     ]
    }
   ],
   "source": [
    "# evaluating updated model\n",
    "# Training accuracy\n",
    "train_accuracy = accuracy_score(y_train, xgb_model.predict(X_train))\n",
    "print(f\"Training Accuracy: {train_accuracy:.2f}\")\n",
    "\n",
    "# Test accuracy\n",
    "test_accuracy = accuracy_score(y_test, y_pred)\n",
    "print(f\"Test Accuracy: {test_accuracy:.2f}\")\n",
    "\n",
    "# Cross-validation accuracy\n",
    "cv_scores = cross_val_score(xgb_model, X, y, cv=5)\n",
    "print(f\"Cross-validation scores: {cv_scores}\")\n",
    "print(f\"Mean CV Accuracy: {cv_scores.mean():.2f}\")"
   ]
  },
  {
   "cell_type": "markdown",
   "id": "80233aa5",
   "metadata": {},
   "source": [
    "summary from this analysis:\n",
    "- the dataset is inherently easy to classify – Features provide strong separation between PCOS and non-PCOS cases.\n",
    "- No overfitting issue – Since cross-validation scores match test accuracy, the model generalizes well.\n",
    "- Regularization & reducing trees had little effect – The model already finds an optimal decision boundary with fewer trees."
   ]
  }
 ],
 "metadata": {
  "kernelspec": {
   "display_name": "Python 3 (ipykernel)",
   "language": "python",
   "name": "python3"
  },
  "language_info": {
   "codemirror_mode": {
    "name": "ipython",
    "version": 3
   },
   "file_extension": ".py",
   "mimetype": "text/x-python",
   "name": "python",
   "nbconvert_exporter": "python",
   "pygments_lexer": "ipython3",
   "version": "3.12.3"
  }
 },
 "nbformat": 4,
 "nbformat_minor": 5
}
